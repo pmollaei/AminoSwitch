{
 "cells": [
  {
   "cell_type": "code",
   "execution_count": 1,
   "metadata": {},
   "outputs": [],
   "source": [
    "import mdtraj as md\n",
    "import numpy as np\n",
    "import pandas as pd\n",
    "from itertools import combinations\n",
    "from itertools import groupby\n",
    "import itertools as it\n",
    "from collections import Counter\n",
    "from sklearn.cluster import KMeans\n",
    "from sklearn.ensemble import RandomForestClassifier\n",
    "from itertools import groupby\n",
    "import warnings\n",
    "warnings.filterwarnings(\"ignore\")"
   ]
  },
  {
   "cell_type": "code",
   "execution_count": 2,
   "metadata": {
    "scrolled": true
   },
   "outputs": [],
   "source": [
    "prot = md.load('fs-peptide.pdb')\n",
    "top = prot.topology"
   ]
  },
  {
   "cell_type": "code",
   "execution_count": 3,
   "metadata": {},
   "outputs": [],
   "source": [
    "selected_atm = [('O', 'C', 'CA', 'N', 'CB', 'CG', 'NE2'),('O', 'C', 'CA', 'N', 'CB', 'CG', 'CD', 'NE', 'NH1', 'NH2'), ('O', 'C', 'CA', 'CB', 'N'), ('O', 'C', 'CA', 'N', 'CB', 'CG', 'OE2', 'CD', 'OE1'), ('O', 'C', 'CA', 'N'), ('O', 'C', 'CA', 'N', 'CG2', 'CB', 'OG1'), ('O', 'C', 'CA', 'N', 'CB', 'CG', 'CZ'), ('O', 'C', 'CA', 'N', 'CB', 'OG'), ('O', 'C', 'CA', 'N', 'CB', 'CG', 'OD1', 'OD2'), ('O', 'C', 'CA', 'N', 'CB', 'CG1', 'CG2'), ('O', 'C', 'CA', 'N', 'CB', 'CG', 'OH'), ('O', 'C', 'CA', 'N', 'CB', 'CG', 'CD1', 'CD2'), ('O', 'C', 'CA', 'N', 'CB', 'CG', 'CD', 'OE1', 'NE2'), ('O', 'C', 'CA', 'N', 'CB', 'CG', 'CD', 'CE', 'NZ'), ('O', 'C', 'CA', 'N', 'CB', 'CG1', 'CG2', 'CD1'), ('O', 'C', 'CA', 'N', 'CB', 'CG', 'CD1', 'CE2', 'CH2'), ('O', 'C', 'CA', 'N', 'CB', 'SG'), ('O', 'C', 'CA', 'CG'), ('O', 'C', 'CA', 'N', 'CB', 'CG', 'ND2', 'OD1'), ('O', 'C', 'CA', 'N', 'CB', 'CG', 'SD', 'CE')]\n",
    "residues = ['HIS','ARG','ALA', 'GLU', 'GLY', 'THR', 'PHE', 'SER', 'ASP', 'VAL', 'TYR', 'LEU', 'GLN', 'LYS', 'ILE', 'TRP', 'CYS', 'PRO', 'ASN', 'MET']"
   ]
  },
  {
   "cell_type": "code",
   "execution_count": 4,
   "metadata": {},
   "outputs": [],
   "source": [
    "#combinations of three atoms within each residue\n",
    "cmb_atm = []\n",
    "for i in range(len(residues)):\n",
    "    c_atm = (residues[i], list(it.combinations(selected_atm[i], 3)))\n",
    "    cmb_atm.append(c_atm)"
   ]
  },
  {
   "cell_type": "code",
   "execution_count": 5,
   "metadata": {},
   "outputs": [],
   "source": [
    "# residue-atom (i.e HIS7-N) getting from .pdb files\n",
    "residue_atom = []\n",
    "for res in top.atoms:\n",
    "    residue_atom.append(str(res))"
   ]
  },
  {
   "cell_type": "code",
   "execution_count": 6,
   "metadata": {},
   "outputs": [],
   "source": [
    "# groups of unique residues\n",
    "res = [list(i) for j, i in groupby(residue_atom, lambda a: a.split('-')[0])]\n",
    "unq_res = []\n",
    "for r in range(len(res)):\n",
    "    unq_res.append(res[r][0].split('-')[0])"
   ]
  },
  {
   "cell_type": "code",
   "execution_count": 7,
   "metadata": {},
   "outputs": [],
   "source": [
    "angle_ind = []\n",
    "for i in range(len(unq_res)):\n",
    "    b = []\n",
    "    for j in range(len(cmb_atm)):\n",
    "        if unq_res[i][:3]==cmb_atm[j][0]:\n",
    "            c = []\n",
    "            for k in range(len(cmb_atm[j][1])):\n",
    "                a = (unq_res[i]+'-'+cmb_atm[j][1][k][0], unq_res[i]+'-'+cmb_atm[j][1][k][1], unq_res[i]+'-'+cmb_atm[j][1][k][2])\n",
    "                d = []\n",
    "                for l in range(len(residue_atom)):\n",
    "                    if a[0]==residue_atom[l]:\n",
    "                        f1 = l\n",
    "                    if a[1]==residue_atom[l]:\n",
    "                        f2 = l\n",
    "                    if a[2]==residue_atom[l]:\n",
    "                        f3 = l\n",
    "                t = ((f1, f2, f3), a)\n",
    "                c.append(t)\n",
    "            b.append(c)\n",
    "    if len(b)!=0:\n",
    "        angle_ind.append(b)"
   ]
  },
  {
   "cell_type": "markdown",
   "metadata": {},
   "source": [
    " "
   ]
  },
  {
   "cell_type": "markdown",
   "metadata": {},
   "source": [
    "Switches for single Trajectory"
   ]
  },
  {
   "cell_type": "code",
   "execution_count": 8,
   "metadata": {},
   "outputs": [],
   "source": [
    "angles = []\n",
    "traj = md.load_dcd('fs_peptide15.dcd', top='fs-peptide.pdb')\n",
    "for i in range(len(angle_ind)):\n",
    "    t = []\n",
    "    for j in range(len(angle_ind[i][0])):\n",
    "        ind = [int(angle_ind[i][0][j][0][0]), int(angle_ind[i][0][j][0][1]), int(angle_ind[i][0][j][0][2])]\n",
    "        angl = md.compute_angles(traj, [ind], periodic=True, opt=True)\n",
    "        t.append([item for sublist in angl for item in sublist])\n",
    "    angles.append(t)"
   ]
  },
  {
   "cell_type": "code",
   "execution_count": 9,
   "metadata": {
    "scrolled": true
   },
   "outputs": [],
   "source": [
    "dataset = pd.read_csv('training_dataset_bimodal_switches.csv')"
   ]
  },
  {
   "cell_type": "code",
   "execution_count": 10,
   "metadata": {
    "scrolled": true
   },
   "outputs": [
    {
     "name": "stdout",
     "output_type": "stream",
     "text": [
      "10\n",
      "20\n"
     ]
    }
   ],
   "source": [
    "# Angle featurization\n",
    "ml_result = []\n",
    "for l in range(len(angles)):\n",
    "    f = []\n",
    "    for t in range(len(angles[l])):\n",
    "        x_dif_max = []\n",
    "        maxr = []\n",
    "        maxl = []\n",
    "        dif_max = []\n",
    "        meanr = []\n",
    "        meanl = []\n",
    "        meanm = []\n",
    "        rm = []\n",
    "        hl = []\n",
    "        hr = []\n",
    "        dif_meanlm = []\n",
    "        dif_meanrm = []\n",
    "        dif_meanrl = []\n",
    "        hi = []\n",
    "        mid_hist = []\n",
    "        hist,bin_edges = np.histogram(angles[l][t], density=True, bins=150)\n",
    "        hi.append(hist)\n",
    "        cluster_id = KMeans(2).fit_predict(bin_edges[1:].reshape(-1, 1))\n",
    "        x_std = (cluster_id - cluster_id.mean()) / cluster_id.std()\n",
    "        step_indicator = 1*np.cumsum(x_std)\n",
    "        a = step_indicator[0:len(step_indicator)-1]\n",
    "        b = step_indicator[1:]\n",
    "        m = np.diff(a)/np.diff(b)  \n",
    "        z = np.where(m !=1)\n",
    "        rounded = [np.round(x) for x in m]\n",
    "\n",
    "        no1 = [i for i, e in enumerate(rounded) if e != 1]\n",
    "\n",
    "        maxr_ = hist[no1[0]:].max()\n",
    "        maxr.append(maxr_)\n",
    "        lb_maxr_ = [i for i, e in enumerate(hist) if e == maxr_]\n",
    "        x_maxr_ = bin_edges[lb_maxr_[0]]\n",
    "\n",
    "        maxl_ = hist[:no1[0]].max()\n",
    "        maxl.append(maxl_)\n",
    "        lb_maxl_ = [i for i, e in enumerate(hist) if e == maxl_]\n",
    "        x_maxl_ = bin_edges[lb_maxl_[0]]\n",
    "\n",
    "        dif_max_ = abs(maxr_ - maxl_)\n",
    "        dif_max.append(dif_max_)\n",
    "\n",
    "        x_dif_max_ = abs(x_maxr_- x_maxl_)\n",
    "        x_dif_max.append(x_dif_max_)\n",
    "\n",
    "        mid_hist_ = hist[int(x_dif_max_/2)]\n",
    "        mid_hist.append(mid_hist_)\n",
    "\n",
    "        min_ = min(maxl_,maxr_)\n",
    "        max_ = max(maxl_,maxr_)\n",
    "\n",
    "        ratio_ = min_/max_\n",
    "        rm.append(ratio_)\n",
    "\n",
    "        hl_ = (maxl_-hist[no1[0]])/max_\n",
    "        hl.append(hl_)\n",
    "        hr_ = (maxr_-hist[no1[0]])/max_\n",
    "        hr.append(hr_)\n",
    "\n",
    "        meanl_ = hist[:no1[0]].mean()\n",
    "        meanl.append(meanl_)\n",
    "        meanr_ = hist[no1[0]:].mean()\n",
    "        meanr.append(meanr_)\n",
    "        meanm_ = hist[no1[0]-1:no1[0]+1].mean()\n",
    "        meanm.append(meanm_)\n",
    "\n",
    "        dif_meanlm_ = abs(meanl_ - meanm_)\n",
    "        dif_meanlm.append(dif_meanlm_)\n",
    "        dif_meanrm_ = abs(meanr_ - meanm_)\n",
    "        dif_meanrm.append(dif_meanrm_)\n",
    "        dif_meanrl_ = abs(meanr_ - meanl_)\n",
    "        dif_meanrl.append(dif_meanrl_)\n",
    "\n",
    "        d1 = {'maxr': maxr, 'maxl': maxl, 'dif_max': dif_max, 'meanl': meanl, 'meanr': meanr, 'meanm': meanm, 'rm': rm, 'hl': hl, 'hr': hr, 'dif_meanlm': dif_meanlm, 'dif_meanrm': dif_meanrm, 'dif_meanrl': dif_meanrl, 'x_dif_max':x_dif_max, 'mid_hist':mid_hist}\n",
    "        testset = pd.DataFrame(d1)\n",
    "        trainset = dataset.drop(columns=['label'])\n",
    "        trainlabel = dataset.iloc[: , -1]\n",
    "        forest = RandomForestClassifier()\n",
    "        forest.fit(trainset, trainlabel)\n",
    "        pred = forest.predict(testset)\n",
    "        f.append(pred[0])\n",
    "    ml_result.append(f)\n",
    "    if len(ml_result) % 10 == 0:\n",
    "        print(len(ml_result))"
   ]
  },
  {
   "cell_type": "code",
   "execution_count": 11,
   "metadata": {},
   "outputs": [],
   "source": [
    "# datapoints of all switch residues\n",
    "swt_ind = []\n",
    "for i in range(len(ml_result)):\n",
    "    for j in range(len(ml_result[i])):\n",
    "        if ml_result[i][j]==1:\n",
    "            a = (i,j,angle_ind[i][0][j][1],angles[i][j])\n",
    "            swt_ind.append(a)"
   ]
  },
  {
   "cell_type": "code",
   "execution_count": 12,
   "metadata": {},
   "outputs": [],
   "source": [
    "df = pd.DataFrame(swt_ind)\n",
    "df.columns = ['resid', 'angle_ndx', 'atom_ndx', 'angle_values']"
   ]
  },
  {
   "cell_type": "code",
   "execution_count": 13,
   "metadata": {},
   "outputs": [],
   "source": [
    "# list of switch residues\n",
    "unq_swt = []\n",
    "for item in swt_ind:\n",
    "    a = item[2][0].split('-')[0]\n",
    "    if a not in unq_swt:\n",
    "        unq_swt.append(a)"
   ]
  },
  {
   "cell_type": "markdown",
   "metadata": {},
   "source": [
    "ANSR"
   ]
  },
  {
   "cell_type": "code",
   "execution_count": 14,
   "metadata": {},
   "outputs": [],
   "source": [
    "over = []\n",
    "for i in range(len(cmb_atm)):\n",
    "    a = (cmb_atm[i][0], len(cmb_atm[i][1]))\n",
    "    over.append(a)"
   ]
  },
  {
   "cell_type": "code",
   "execution_count": 15,
   "metadata": {},
   "outputs": [],
   "source": [
    "up = []\n",
    "for i in range(len(df)):\n",
    "    a = df.iloc[i][2][0].split(\"-\")[0]\n",
    "    up.append(a)"
   ]
  },
  {
   "cell_type": "code",
   "execution_count": 16,
   "metadata": {},
   "outputs": [],
   "source": [
    "rep = [list(g) for _, g in groupby(up, lambda l: l)]"
   ]
  },
  {
   "cell_type": "code",
   "execution_count": 17,
   "metadata": {},
   "outputs": [],
   "source": [
    "residue_ANSR = []\n",
    "for i in range(len(rep)):\n",
    "    a = len(rep[i])\n",
    "    for j in range(len(over)):\n",
    "        if rep[i][0][:3] == over[j][0]:\n",
    "            b = str(a)+\"/\"+str(over[j][1])\n",
    "            c = (rep[i][0], b)\n",
    "    residue_ANSR.append(c)"
   ]
  },
  {
   "cell_type": "code",
   "execution_count": 18,
   "metadata": {},
   "outputs": [
    {
     "name": "stdout",
     "output_type": "stream",
     "text": [
      "residue, ANSR :  [('ALA3', '1/10'), ('ALA7', '1/10'), ('ALA9', '2/10'), ('ARG10', '6/120'), ('ARG15', '3/120'), ('ARG20', '1/120')]\n"
     ]
    }
   ],
   "source": [
    "print(\"residue, ANSR : \", residue_ANSR)"
   ]
  },
  {
   "cell_type": "markdown",
   "metadata": {},
   "source": [
    "ATSC"
   ]
  },
  {
   "cell_type": "code",
   "execution_count": 19,
   "metadata": {},
   "outputs": [],
   "source": [
    "t = []\n",
    "for i in range(len(df)):\n",
    "    a = df.iloc[i, 2][0].split('-')[0]\n",
    "    b = (df.iloc[i, 2][0].split('-')[1], df.iloc[i, 2][1].split('-')[1], df.iloc[i, 2][2].split('-')[1])\n",
    "    c = (a, b)\n",
    "    t.append(c)"
   ]
  },
  {
   "cell_type": "code",
   "execution_count": 20,
   "metadata": {},
   "outputs": [],
   "source": [
    "gp = [list(g) for _, g in groupby(t, lambda l: l[0])]"
   ]
  },
  {
   "cell_type": "code",
   "execution_count": 21,
   "metadata": {},
   "outputs": [],
   "source": [
    "tot = []\n",
    "for i in range(len(gp)):\n",
    "    b = []\n",
    "    for j in range(len(gp[i])):\n",
    "        b.append(gp[i][j][1])\n",
    "    c = (gp[i][j][0], np.reshape(b, -1))\n",
    "    tot.append(c)"
   ]
  },
  {
   "cell_type": "code",
   "execution_count": 22,
   "metadata": {},
   "outputs": [],
   "source": [
    "residues_ATSC = []\n",
    "for i in range(len(tot)):\n",
    "    res = {key : [key] * val for key, val in Counter(tot[i][1]).items()}\n",
    "    d = []\n",
    "    for j in range(len(list(res.keys()))):\n",
    "        a = (list(res.keys())[j])\n",
    "        b = len(list(res.values())[j])\n",
    "        c = (a,b)\n",
    "        d.append(c)\n",
    "    d.sort(key = lambda x: x[1], reverse = True)\n",
    "    e = (tot[i][0], d)\n",
    "    residues_ATSC.append(e)"
   ]
  },
  {
   "cell_type": "code",
   "execution_count": 23,
   "metadata": {},
   "outputs": [
    {
     "name": "stdout",
     "output_type": "stream",
     "text": [
      "residue, ATSC :  [('ALA3', [('O', 1), ('CA', 1), ('N', 1)]), ('ALA7', [('O', 1), ('C', 1), ('N', 1)]), ('ALA9', [('O', 2), ('N', 2), ('C', 1), ('CA', 1)]), ('ARG10', [('CG', 5), ('CB', 4), ('C', 3), ('N', 2), ('NE', 2), ('CA', 1), ('CD', 1)]), ('ARG15', [('CG', 3), ('C', 2), ('CB', 2), ('CA', 1), ('NE', 1)]), ('ARG20', [('CB', 1), ('CD', 1), ('NE', 1)])]\n"
     ]
    }
   ],
   "source": [
    "print(\"residue, ATSC : \", residues_ATSC)"
   ]
  }
 ],
 "metadata": {
  "kernelspec": {
   "display_name": "Python 3 (ipykernel)",
   "language": "python",
   "name": "python3"
  },
  "language_info": {
   "codemirror_mode": {
    "name": "ipython",
    "version": 3
   },
   "file_extension": ".py",
   "mimetype": "text/x-python",
   "name": "python",
   "nbconvert_exporter": "python",
   "pygments_lexer": "ipython3",
   "version": "3.10.12"
  }
 },
 "nbformat": 4,
 "nbformat_minor": 2
}
